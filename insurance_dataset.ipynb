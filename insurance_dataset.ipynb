{
 "cells": [
  {
   "cell_type": "code",
   "execution_count": 1,
   "id": "d402fac1-dcc7-4fca-94bf-9a66f4b6b2ce",
   "metadata": {},
   "outputs": [],
   "source": [
    "import pandas as pd\n",
    "import numpy as np \n",
    "import matplotlib.pyplot as plt \n",
    "import seaborn as sns"
   ]
  },
  {
   "cell_type": "markdown",
   "id": "dcecb1e1-a052-4f46-8fb3-e2c1366321f6",
   "metadata": {},
   "source": [
    "# EDA"
   ]
  },
  {
   "cell_type": "code",
   "execution_count": 2,
   "id": "260b03b6-1a3d-4156-b006-265d0998d476",
   "metadata": {},
   "outputs": [],
   "source": [
    "# loading the data \n",
    "\n",
    "data = pd.read_csv(\"insurance.csv\")"
   ]
  },
  {
   "cell_type": "code",
   "execution_count": 3,
   "id": "f3f2dcbb-2224-4b94-8ef7-bd01c7c6a042",
   "metadata": {},
   "outputs": [
    {
     "data": {
      "text/html": [
       "<div>\n",
       "<style scoped>\n",
       "    .dataframe tbody tr th:only-of-type {\n",
       "        vertical-align: middle;\n",
       "    }\n",
       "\n",
       "    .dataframe tbody tr th {\n",
       "        vertical-align: top;\n",
       "    }\n",
       "\n",
       "    .dataframe thead th {\n",
       "        text-align: right;\n",
       "    }\n",
       "</style>\n",
       "<table border=\"1\" class=\"dataframe\">\n",
       "  <thead>\n",
       "    <tr style=\"text-align: right;\">\n",
       "      <th></th>\n",
       "      <th>index</th>\n",
       "      <th>age</th>\n",
       "      <th>sex</th>\n",
       "      <th>bmi</th>\n",
       "      <th>children</th>\n",
       "      <th>smoker</th>\n",
       "      <th>region</th>\n",
       "      <th>charges</th>\n",
       "    </tr>\n",
       "  </thead>\n",
       "  <tbody>\n",
       "    <tr>\n",
       "      <th>0</th>\n",
       "      <td>0</td>\n",
       "      <td>19</td>\n",
       "      <td>female</td>\n",
       "      <td>27.900</td>\n",
       "      <td>0</td>\n",
       "      <td>yes</td>\n",
       "      <td>southwest</td>\n",
       "      <td>16884.92400</td>\n",
       "    </tr>\n",
       "    <tr>\n",
       "      <th>1</th>\n",
       "      <td>1</td>\n",
       "      <td>18</td>\n",
       "      <td>male</td>\n",
       "      <td>33.770</td>\n",
       "      <td>1</td>\n",
       "      <td>no</td>\n",
       "      <td>southeast</td>\n",
       "      <td>1725.55230</td>\n",
       "    </tr>\n",
       "    <tr>\n",
       "      <th>2</th>\n",
       "      <td>2</td>\n",
       "      <td>28</td>\n",
       "      <td>male</td>\n",
       "      <td>33.000</td>\n",
       "      <td>3</td>\n",
       "      <td>no</td>\n",
       "      <td>southeast</td>\n",
       "      <td>4449.46200</td>\n",
       "    </tr>\n",
       "    <tr>\n",
       "      <th>3</th>\n",
       "      <td>3</td>\n",
       "      <td>33</td>\n",
       "      <td>male</td>\n",
       "      <td>22.705</td>\n",
       "      <td>0</td>\n",
       "      <td>no</td>\n",
       "      <td>northwest</td>\n",
       "      <td>21984.47061</td>\n",
       "    </tr>\n",
       "    <tr>\n",
       "      <th>4</th>\n",
       "      <td>4</td>\n",
       "      <td>32</td>\n",
       "      <td>male</td>\n",
       "      <td>28.880</td>\n",
       "      <td>0</td>\n",
       "      <td>no</td>\n",
       "      <td>northwest</td>\n",
       "      <td>3866.85520</td>\n",
       "    </tr>\n",
       "  </tbody>\n",
       "</table>\n",
       "</div>"
      ],
      "text/plain": [
       "   index  age     sex     bmi  children smoker     region      charges\n",
       "0      0   19  female  27.900         0    yes  southwest  16884.92400\n",
       "1      1   18    male  33.770         1     no  southeast   1725.55230\n",
       "2      2   28    male  33.000         3     no  southeast   4449.46200\n",
       "3      3   33    male  22.705         0     no  northwest  21984.47061\n",
       "4      4   32    male  28.880         0     no  northwest   3866.85520"
      ]
     },
     "execution_count": 3,
     "metadata": {},
     "output_type": "execute_result"
    }
   ],
   "source": [
    "data.head()"
   ]
  },
  {
   "cell_type": "code",
   "execution_count": 4,
   "id": "9a4a4d37-6c9f-4012-b305-0e019afc6c6e",
   "metadata": {},
   "outputs": [
    {
     "name": "stdout",
     "output_type": "stream",
     "text": [
      "The shape of data :  (1338, 8)\n",
      "<class 'pandas.core.frame.DataFrame'>\n",
      "RangeIndex: 1338 entries, 0 to 1337\n",
      "Data columns (total 8 columns):\n",
      " #   Column    Non-Null Count  Dtype  \n",
      "---  ------    --------------  -----  \n",
      " 0   index     1338 non-null   int64  \n",
      " 1   age       1338 non-null   int64  \n",
      " 2   sex       1338 non-null   object \n",
      " 3   bmi       1338 non-null   float64\n",
      " 4   children  1338 non-null   int64  \n",
      " 5   smoker    1338 non-null   object \n",
      " 6   region    1338 non-null   object \n",
      " 7   charges   1338 non-null   float64\n",
      "dtypes: float64(2), int64(3), object(3)\n",
      "memory usage: 83.8+ KB\n",
      "The info. of data : None\n",
      "The statistical values of data :              index          age          bmi     children       charges\n",
      "count  1338.000000  1338.000000  1338.000000  1338.000000   1338.000000\n",
      "mean    668.500000    39.207025    30.663397     1.094918  13270.422265\n",
      "std     386.391641    14.049960     6.098187     1.205493  12110.011237\n",
      "min       0.000000    18.000000    15.960000     0.000000   1121.873900\n",
      "25%     334.250000    27.000000    26.296250     0.000000   4740.287150\n",
      "50%     668.500000    39.000000    30.400000     1.000000   9382.033000\n",
      "75%    1002.750000    51.000000    34.693750     2.000000  16639.912515\n",
      "max    1337.000000    64.000000    53.130000     5.000000  63770.428010\n"
     ]
    }
   ],
   "source": [
    "print(\"The shape of data : \",data.shape)\n",
    "print(\"The info. of data :\", data.info())\n",
    "print(\"The statistical values of data :\", data.describe())"
   ]
  },
  {
   "cell_type": "code",
   "execution_count": 5,
   "id": "761347be-4ca2-4d78-9f2d-14a6cbbb85a0",
   "metadata": {},
   "outputs": [
    {
     "name": "stdout",
     "output_type": "stream",
     "text": [
      "Null values : index       0\n",
      "age         0\n",
      "sex         0\n",
      "bmi         0\n",
      "children    0\n",
      "smoker      0\n",
      "region      0\n",
      "charges     0\n",
      "dtype: int64\n",
      "Checking duplicate values : 0\n"
     ]
    }
   ],
   "source": [
    "print(\"Null values :\" ,data.isnull().sum())\n",
    "print(\"Checking duplicate values :\", data.duplicated().sum())"
   ]
  },
  {
   "cell_type": "code",
   "execution_count": 6,
   "id": "43446f5a-598f-4daf-9bc9-2160b5efcc06",
   "metadata": {},
   "outputs": [
    {
     "name": "stdout",
     "output_type": "stream",
     "text": [
      "After dropping the index column : None\n",
      "Shape of data : (1338, 7)\n"
     ]
    }
   ],
   "source": [
    "print(\"After dropping the index column :\", data.drop(columns=[\"index\"],inplace=True))\n",
    "print(\"Shape of data :\", data.shape)"
   ]
  },
  {
   "cell_type": "code",
   "execution_count": 7,
   "id": "8c9e8ef0-d8c5-48bc-be6d-caa20f218029",
   "metadata": {},
   "outputs": [
    {
     "name": "stdout",
     "output_type": "stream",
     "text": [
      "Numerical columns =        age     bmi  children      charges\n",
      "0      19  27.900         0  16884.92400\n",
      "1      18  33.770         1   1725.55230\n",
      "2      28  33.000         3   4449.46200\n",
      "3      33  22.705         0  21984.47061\n",
      "4      32  28.880         0   3866.85520\n",
      "...   ...     ...       ...          ...\n",
      "1333   50  30.970         3  10600.54830\n",
      "1334   18  31.920         0   2205.98080\n",
      "1335   18  36.850         0   1629.83350\n",
      "1336   21  25.800         0   2007.94500\n",
      "1337   61  29.070         0  29141.36030\n",
      "\n",
      "[1338 rows x 4 columns]\n",
      "Categorical columns =           sex smoker     region\n",
      "0     female    yes  southwest\n",
      "1       male     no  southeast\n",
      "2       male     no  southeast\n",
      "3       male     no  northwest\n",
      "4       male     no  northwest\n",
      "...      ...    ...        ...\n",
      "1333    male     no  northwest\n",
      "1334  female     no  northeast\n",
      "1335  female     no  southeast\n",
      "1336  female     no  southwest\n",
      "1337  female    yes  northwest\n",
      "\n",
      "[1338 rows x 3 columns]\n"
     ]
    }
   ],
   "source": [
    "numerical_columns = data.select_dtypes(include=[\"int64\",\"float64\"])\n",
    "print(\"Numerical columns = \",numerical_columns )\n",
    "\n",
    "categorical_columns = data.select_dtypes(include = [\"object\"])\n",
    "print(\"Categorical columns = \",categorical_columns)"
   ]
  },
  {
   "cell_type": "code",
   "execution_count": 8,
   "id": "26563d21-a8e1-486b-bc6d-b6bd9e560381",
   "metadata": {},
   "outputs": [
    {
     "name": "stdout",
     "output_type": "stream",
     "text": [
      "Uniques value of sex columns =  ['female' 'male']\n",
      "Uniques value of smoker columns =  ['yes' 'no']\n",
      "Uniques value of region columns =  ['southwest' 'southeast' 'northwest' 'northeast']\n"
     ]
    }
   ],
   "source": [
    "print(\"Uniques value of sex columns = \",categorical_columns[\"sex\"].unique())\n",
    "print(\"Uniques value of smoker columns = \",categorical_columns[\"smoker\"].unique())\n",
    "print(\"Uniques value of region columns = \",categorical_columns[\"region\"].unique())"
   ]
  },
  {
   "cell_type": "code",
   "execution_count": 9,
   "id": "5b2e9809-984c-4dff-82dc-ded89f7d0b71",
   "metadata": {},
   "outputs": [
    {
     "data": {
      "image/png": "[encoded data removed]",
      "text/plain": [
       "<Figure size 640x480 with 1 Axes>"
      ]
     },
     "metadata": {},
     "output_type": "display_data"
    }
   ],
   "source": [
    "# checking outlier in numerical columns \n",
    "\n",
    "# 1. age \n",
    "plt.title(\"Age\")\n",
    "sns.boxplot(data[\"age\"])\n",
    "plt.show()"
   ]
  },
  {
   "cell_type": "code",
   "execution_count": 10,
   "id": "e93178d1-9168-4aa3-bbe0-723eadf0c451",
   "metadata": {},
   "outputs": [
    {
     "data": {
      "image/png": "[encoded data removed]",
      "text/plain": [
       "<Figure size 640x480 with 1 Axes>"
      ]
     },
     "metadata": {},
     "output_type": "display_data"
    }
   ],
   "source": [
    "plt.title(\"bmi\")\n",
    "sns.boxplot(data[\"bmi\"])\n",
    "plt.show()"
   ]
  },
  {
   "cell_type": "code",
   "execution_count": 11,
   "id": "d9f818e3-abb1-4c64-b841-0f063480298a",
   "metadata": {},
   "outputs": [
    {
     "data": {
      "image/png": "[encoded data removed]",
      "text/plain": [
       "<Figure size 640x480 with 1 Axes>"
      ]
     },
     "metadata": {},
     "output_type": "display_data"
    }
   ],
   "source": [
    "plt.title(\"children\")\n",
    "sns.boxplot(data[\"children\"])\n",
    "plt.show()"
   ]
  },
  {
   "cell_type": "code",
   "execution_count": 12,
   "id": "bc792c99-81f3-44cb-a714-ef3b8c00e078",
   "metadata": {},
   "outputs": [
    {
     "data": {
      "image/png": "[encoded data removed]",
      "text/plain": [
       "<Figure size 640x480 with 1 Axes>"
      ]
     },
     "metadata": {},
     "output_type": "display_data"
    }
   ],
   "source": [
    "plt.title(\"charges\")\n",
    "sns.boxplot(data[\"charges\"])\n",
    "plt.show()"
   ]
  },
  {
   "cell_type": "markdown",
   "id": "db1cc130-880f-452a-a495-e6d11b86d430",
   "metadata": {},
   "source": [
    "# FEATURE ENGINEERING"
   ]
  },
  {
   "cell_type": "code",
   "execution_count": 13,
   "id": "9d0fb670-7b2a-4169-bc2b-1ae8fc5e6dea",
   "metadata": {},
   "outputs": [
    {
     "data": {
      "image/png": "[encoded data removed]",
      "text/plain": [
       "<Figure size 640x480 with 1 Axes>"
      ]
     },
     "metadata": {},
     "output_type": "display_data"
    }
   ],
   "source": [
    "# removing outliers from numerical columns \n",
    "\n",
    "# bmi ......\n",
    "plt.title(\"Hist plot of bmi\")\n",
    "sns.histplot(numerical_columns[\"bmi\"],kde = True)\n",
    "plt.show()"
   ]
  },
  {
   "cell_type": "code",
   "execution_count": 14,
   "id": "9200c9c9-2c6c-48e0-81f6-37a5a4d21056",
   "metadata": {},
   "outputs": [],
   "source": [
    "from scipy.stats import zscore "
   ]
  },
  {
   "cell_type": "code",
   "execution_count": 15,
   "id": "9fd441ba-5555-4d4c-834b-351f9ba7e908",
   "metadata": {},
   "outputs": [
    {
     "name": "stdout",
     "output_type": "stream",
     "text": [
      "      age     bmi  children      charges  zscore_bmi\n",
      "0      19  27.900         0  16884.92400   -0.453320\n",
      "1      18  33.770         1   1725.55230    0.509621\n",
      "2      28  33.000         3   4449.46200    0.383307\n",
      "3      33  22.705         0  21984.47061   -1.305531\n",
      "4      32  28.880         0   3866.85520   -0.292556\n",
      "...   ...     ...       ...          ...         ...\n",
      "1333   50  30.970         3  10600.54830    0.050297\n",
      "1334   18  31.920         0   2205.98080    0.206139\n",
      "1335   18  36.850         0   1629.83350    1.014878\n",
      "1336   21  25.800         0   2007.94500   -0.797813\n",
      "1337   61  29.070         0  29141.36030   -0.261388\n",
      "\n",
      "[1338 rows x 5 columns]\n",
      "      age     bmi  children      charges  zscore_bmi  outliers\n",
      "0      19  27.900         0  16884.92400   -0.453320     False\n",
      "1      18  33.770         1   1725.55230    0.509621     False\n",
      "2      28  33.000         3   4449.46200    0.383307     False\n",
      "3      33  22.705         0  21984.47061   -1.305531     False\n",
      "4      32  28.880         0   3866.85520   -0.292556     False\n",
      "...   ...     ...       ...          ...         ...       ...\n",
      "1333   50  30.970         3  10600.54830    0.050297     False\n",
      "1334   18  31.920         0   2205.98080    0.206139     False\n",
      "1335   18  36.850         0   1629.83350    1.014878     False\n",
      "1336   21  25.800         0   2007.94500   -0.797813     False\n",
      "1337   61  29.070         0  29141.36030   -0.261388     False\n",
      "\n",
      "[1338 rows x 6 columns]\n",
      "      age     bmi  children      charges  zscore_bmi  outliers\n",
      "0      19  27.900         0  16884.92400   -0.453320     False\n",
      "1      18  33.770         1   1725.55230    0.509621     False\n",
      "2      28  33.000         3   4449.46200    0.383307     False\n",
      "3      33  22.705         0  21984.47061   -1.305531     False\n",
      "4      32  28.880         0   3866.85520   -0.292556     False\n",
      "...   ...     ...       ...          ...         ...       ...\n",
      "1333   50  30.970         3  10600.54830    0.050297     False\n",
      "1334   18  31.920         0   2205.98080    0.206139     False\n",
      "1335   18  36.850         0   1629.83350    1.014878     False\n",
      "1336   21  25.800         0   2007.94500   -0.797813     False\n",
      "1337   61  29.070         0  29141.36030   -0.261388     False\n",
      "\n",
      "[1334 rows x 6 columns]\n",
      "      age     bmi  children      charges\n",
      "0      19  27.900         0  16884.92400\n",
      "1      18  33.770         1   1725.55230\n",
      "2      28  33.000         3   4449.46200\n",
      "3      33  22.705         0  21984.47061\n",
      "4      32  28.880         0   3866.85520\n",
      "...   ...     ...       ...          ...\n",
      "1333   50  30.970         3  10600.54830\n",
      "1334   18  31.920         0   2205.98080\n",
      "1335   18  36.850         0   1629.83350\n",
      "1336   21  25.800         0   2007.94500\n",
      "1337   61  29.070         0  29141.36030\n",
      "\n",
      "[1334 rows x 4 columns]\n"
     ]
    },
    {
     "name": "stderr",
     "output_type": "stream",
     "text": [
      "C:\\Users\\HP\\AppData\\Local\\Temp\\ipykernel_25452\\736663909.py:13: SettingWithCopyWarning: \n",
      "A value is trying to be set on a copy of a slice from a DataFrame\n",
      "\n",
      "See the caveats in the documentation: https://pandas.pydata.org/pandas-docs/stable/user_guide/indexing.html#returning-a-view-versus-a-copy\n",
      "  numerical.drop(columns = [\"zscore_bmi\",\"outliers\"],inplace=True)\n"
     ]
    }
   ],
   "source": [
    "numerical_columns[\"zscore_bmi\"] = zscore(numerical_columns[\"bmi\"])\n",
    "print(numerical_columns)\n",
    "\n",
    "threshold = 3\n",
    "\n",
    "numerical_columns[\"outliers\"] =  abs(numerical_columns[\"zscore_bmi\"]) > threshold\n",
    "print(numerical_columns)\n",
    "\n",
    "\n",
    "numerical = numerical_columns[~numerical_columns[\"outliers\"]]\n",
    "print(numerical)\n",
    "\n",
    "numerical.drop(columns = [\"zscore_bmi\",\"outliers\"],inplace=True)\n",
    "print(numerical)\n",
    "\n",
    "\n"
   ]
  },
  {
   "cell_type": "code",
   "execution_count": 16,
   "id": "ed04ba5c-29d1-44d7-907b-e5a387e5b917",
   "metadata": {},
   "outputs": [
    {
     "data": {
      "image/png": "[encoded data removed]",
      "text/plain": [
       "<Figure size 640x480 with 1 Axes>"
      ]
     },
     "metadata": {},
     "output_type": "display_data"
    }
   ],
   "source": [
    "# charges......\n",
    "\n",
    "plt.title(\"Hist plot of charges\")\n",
    "sns.histplot(numerical_columns[\"charges\"],kde = True)\n",
    "plt.show()"
   ]
  },
  {
   "cell_type": "code",
   "execution_count": 17,
   "id": "1dae00fa-51b4-47f5-9661-adb5b92cf216",
   "metadata": {},
   "outputs": [
    {
     "name": "stdout",
     "output_type": "stream",
     "text": [
      "      age     bmi  children      charges  outliers\n",
      "0      19  27.900         0  16884.92400     False\n",
      "1      18  33.770         1   1725.55230     False\n",
      "2      28  33.000         3   4449.46200     False\n",
      "3      33  22.705         0  21984.47061     False\n",
      "4      32  28.880         0   3866.85520     False\n",
      "...   ...     ...       ...          ...       ...\n",
      "1333   50  30.970         3  10600.54830     False\n",
      "1334   18  31.920         0   2205.98080     False\n",
      "1335   18  36.850         0   1629.83350     False\n",
      "1336   21  25.800         0   2007.94500     False\n",
      "1337   61  29.070         0  29141.36030     False\n",
      "\n",
      "[1334 rows x 5 columns]\n",
      "After removing outliers....       age     bmi  children      charges\n",
      "0      19  27.900         0  16884.92400\n",
      "1      18  33.770         1   1725.55230\n",
      "2      28  33.000         3   4449.46200\n",
      "3      33  22.705         0  21984.47061\n",
      "4      32  28.880         0   3866.85520\n",
      "...   ...     ...       ...          ...\n",
      "1333   50  30.970         3  10600.54830\n",
      "1334   18  31.920         0   2205.98080\n",
      "1335   18  36.850         0   1629.83350\n",
      "1336   21  25.800         0   2007.94500\n",
      "1337   61  29.070         0  29141.36030\n",
      "\n",
      "[1196 rows x 4 columns]\n"
     ]
    },
    {
     "name": "stderr",
     "output_type": "stream",
     "text": [
      "C:\\Users\\HP\\AppData\\Local\\Temp\\ipykernel_25452\\449251510.py:9: SettingWithCopyWarning: \n",
      "A value is trying to be set on a copy of a slice from a DataFrame.\n",
      "Try using .loc[row_indexer,col_indexer] = value instead\n",
      "\n",
      "See the caveats in the documentation: https://pandas.pydata.org/pandas-docs/stable/user_guide/indexing.html#returning-a-view-versus-a-copy\n",
      "  numerical[\"outliers\"] = (numerical[\"charges\"] < lower_bound ) | (numerical[\"charges\"] > upper_bound)\n"
     ]
    }
   ],
   "source": [
    "q1 = numerical[\"charges\"].quantile(0.25)\n",
    "q3 = numerical[\"charges\"].quantile(0.75)\n",
    "\n",
    "iqr = q3-q1\n",
    "\n",
    "lower_bound = q1-1.5*iqr\n",
    "upper_bound = q3+1.5*iqr\n",
    "\n",
    "numerical[\"outliers\"] = (numerical[\"charges\"] < lower_bound ) | (numerical[\"charges\"] > upper_bound)\n",
    "print(numerical)\n",
    "\n",
    "numerical = numerical[numerical[\"outliers\"]==False]\n",
    "\n",
    "numerical.drop(columns=[\"outliers\"],inplace = True)\n",
    "print(\"After removing outliers....\", numerical)\n"
   ]
  },
  {
   "cell_type": "code",
   "execution_count": 18,
   "id": "c8b2f85d-ba40-4930-b74f-d24be3eda3c5",
   "metadata": {},
   "outputs": [
    {
     "data": {
      "text/html": [
       "<div>\n",
       "<style scoped>\n",
       "    .dataframe tbody tr th:only-of-type {\n",
       "        vertical-align: middle;\n",
       "    }\n",
       "\n",
       "    .dataframe tbody tr th {\n",
       "        vertical-align: top;\n",
       "    }\n",
       "\n",
       "    .dataframe thead th {\n",
       "        text-align: right;\n",
       "    }\n",
       "</style>\n",
       "<table border=\"1\" class=\"dataframe\">\n",
       "  <thead>\n",
       "    <tr style=\"text-align: right;\">\n",
       "      <th></th>\n",
       "      <th>sex</th>\n",
       "      <th>smoker</th>\n",
       "      <th>region</th>\n",
       "    </tr>\n",
       "  </thead>\n",
       "  <tbody>\n",
       "    <tr>\n",
       "      <th>0</th>\n",
       "      <td>female</td>\n",
       "      <td>yes</td>\n",
       "      <td>southwest</td>\n",
       "    </tr>\n",
       "    <tr>\n",
       "      <th>1</th>\n",
       "      <td>male</td>\n",
       "      <td>no</td>\n",
       "      <td>southeast</td>\n",
       "    </tr>\n",
       "    <tr>\n",
       "      <th>2</th>\n",
       "      <td>male</td>\n",
       "      <td>no</td>\n",
       "      <td>southeast</td>\n",
       "    </tr>\n",
       "    <tr>\n",
       "      <th>3</th>\n",
       "      <td>male</td>\n",
       "      <td>no</td>\n",
       "      <td>northwest</td>\n",
       "    </tr>\n",
       "    <tr>\n",
       "      <th>4</th>\n",
       "      <td>male</td>\n",
       "      <td>no</td>\n",
       "      <td>northwest</td>\n",
       "    </tr>\n",
       "    <tr>\n",
       "      <th>...</th>\n",
       "      <td>...</td>\n",
       "      <td>...</td>\n",
       "      <td>...</td>\n",
       "    </tr>\n",
       "    <tr>\n",
       "      <th>1333</th>\n",
       "      <td>male</td>\n",
       "      <td>no</td>\n",
       "      <td>northwest</td>\n",
       "    </tr>\n",
       "    <tr>\n",
       "      <th>1334</th>\n",
       "      <td>female</td>\n",
       "      <td>no</td>\n",
       "      <td>northeast</td>\n",
       "    </tr>\n",
       "    <tr>\n",
       "      <th>1335</th>\n",
       "      <td>female</td>\n",
       "      <td>no</td>\n",
       "      <td>southeast</td>\n",
       "    </tr>\n",
       "    <tr>\n",
       "      <th>1336</th>\n",
       "      <td>female</td>\n",
       "      <td>no</td>\n",
       "      <td>southwest</td>\n",
       "    </tr>\n",
       "    <tr>\n",
       "      <th>1337</th>\n",
       "      <td>female</td>\n",
       "      <td>yes</td>\n",
       "      <td>northwest</td>\n",
       "    </tr>\n",
       "  </tbody>\n",
       "</table>\n",
       "<p>1338 rows × 3 columns</p>\n",
       "</div>"
      ],
      "text/plain": [
       "         sex smoker     region\n",
       "0     female    yes  southwest\n",
       "1       male     no  southeast\n",
       "2       male     no  southeast\n",
       "3       male     no  northwest\n",
       "4       male     no  northwest\n",
       "...      ...    ...        ...\n",
       "1333    male     no  northwest\n",
       "1334  female     no  northeast\n",
       "1335  female     no  southeast\n",
       "1336  female     no  southwest\n",
       "1337  female    yes  northwest\n",
       "\n",
       "[1338 rows x 3 columns]"
      ]
     },
     "execution_count": 18,
     "metadata": {},
     "output_type": "execute_result"
    }
   ],
   "source": [
    "categorical_columns"
   ]
  },
  {
   "cell_type": "code",
   "execution_count": 19,
   "id": "eb93b5df-e1ff-4e77-ba7a-1cdde49c3f63",
   "metadata": {},
   "outputs": [],
   "source": [
    "from sklearn.preprocessing import LabelEncoder"
   ]
  },
  {
   "cell_type": "code",
   "execution_count": 46,
   "id": "f8c8237c-2af3-41f7-8fd2-a0b33bbe0e90",
   "metadata": {},
   "outputs": [],
   "source": [
    "#encoder_sex = LabelEncoder()\n",
    "#encoder_smoker = LabelEncoder()\n",
    "#encoder_region = LabelEncoder()\n",
    "\n",
    "#categorical_columns[\"sex\"] = encoder_sex.fit_transform(categorical_columns[\"sex\"])\n",
    "#categorical_columns[\"smoker\"] = encoder_smoker.fit_transform(categorical_columns[\"smoker\"])\n",
    "#categorical_columns[\"region\"] = encoder_region.fit_transform(categorical_columns[\"region\"])\n",
    "\n",
    "#print(\"After Encoding technique.....\", categorical_columns)"
   ]
  },
  {
   "cell_type": "code",
   "execution_count": 48,
   "id": "beacbdcf-e5c7-440e-8cff-3e997ff1a945",
   "metadata": {},
   "outputs": [],
   "source": [
    "import pickle \n",
    "\n",
    "# Saving the encoders\n",
    "#with open(\"encoder_sex.pkl\", \"wb\") as f:\n",
    "   # pickle.dump(encoder_sex, f)\n",
    "\n",
    "#with open(\"encoder_smoker.pkl\", \"wb\") as f:\n",
    "    #pickle.dump(encoder_smoker, f)\n",
    "\n",
    "#with open(\"encoder_region.pkl\", \"wb\") as f:\n",
    "    #pickle.dump(encoder_region, f)\n",
    "\n",
    "#print(\"Encoders saved successfully.\")"
   ]
  },
  {
   "cell_type": "code",
   "execution_count": 49,
   "id": "6fdfa0b0-71de-4d35-9d5f-c686c105efe4",
   "metadata": {},
   "outputs": [
    {
     "name": "stdout",
     "output_type": "stream",
     "text": [
      "✅ Encoders saved successfully!\n"
     ]
    }
   ],
   "source": [
    "# Create and fit encoders\n",
    "encoder_sex = LabelEncoder()\n",
    "encoder_sex.fit([\"male\", \"female\"])\n",
    "\n",
    "encoder_smoker = LabelEncoder()\n",
    "encoder_smoker.fit([\"yes\", \"no\"])\n",
    "\n",
    "encoder_region = LabelEncoder()\n",
    "encoder_region.fit([\"southwest\", \"southeast\", \"northwest\", \"northeast\"])\n",
    "\n",
    "# Save the encoders\n",
    "with open(\"encoder_sex.pkl\", \"wb\") as file:\n",
    "    pickle.dump(encoder_sex, file)\n",
    "\n",
    "with open(\"encoder_smoker.pkl\", \"wb\") as file:\n",
    "    pickle.dump(encoder_smoker, file)\n",
    "\n",
    "with open(\"encoder_region.pkl\", \"wb\") as file:\n",
    "    pickle.dump(encoder_region, file)\n",
    "\n",
    "print(\"✅ Encoders saved successfully!\")"
   ]
  },
  {
   "cell_type": "markdown",
   "id": "e2ddd7e8-4c65-43e4-bc3c-a0ec57ad0244",
   "metadata": {},
   "source": [
    "# MATCHING THE ROWS IN BOTH NUMERICAL AND CATEGORICAL DATA"
   ]
  },
  {
   "cell_type": "code",
   "execution_count": 50,
   "id": "26ac9878-f370-4370-b369-229c0862c5f6",
   "metadata": {},
   "outputs": [
    {
     "name": "stdout",
     "output_type": "stream",
     "text": [
      "Numerical Shape: (1196, 4)\n",
      "Categorical Shape: (1196, 3)\n"
     ]
    }
   ],
   "source": [
    "print(\"Numerical Shape:\", numerical.shape)\n",
    "print(\"Categorical Shape:\", categorical_columns.shape)\n"
   ]
  },
  {
   "cell_type": "code",
   "execution_count": 51,
   "id": "73b33d4c-dd61-4570-8de6-35854c201494",
   "metadata": {},
   "outputs": [
    {
     "name": "stdout",
     "output_type": "stream",
     "text": [
      "Missing Rows in Numerical: set()\n",
      "Missing Rows in Categorical: set()\n"
     ]
    }
   ],
   "source": [
    "missing_indices = set(categorical_columns.index) - set(numerical.index)\n",
    "print(\"Missing Rows in Numerical:\", missing_indices)\n",
    "\n",
    "missing_indices = set(numerical.index) - set(categorical_columns.index)\n",
    "print(\"Missing Rows in Categorical:\", missing_indices)\n"
   ]
  },
  {
   "cell_type": "code",
   "execution_count": 52,
   "id": "d1c5462a-84b4-4e6e-9be6-b2cf2481792a",
   "metadata": {},
   "outputs": [],
   "source": [
    "categorical_columns = categorical_columns.loc[numerical.index]  # Keep only matching rows\n"
   ]
  },
  {
   "cell_type": "code",
   "execution_count": 53,
   "id": "f6569e3e-191e-413f-861a-f95adbda8dcf",
   "metadata": {},
   "outputs": [
    {
     "name": "stdout",
     "output_type": "stream",
     "text": [
      "Fixed Numerical Shape: (1196, 4)\n",
      "Fixed Categorical Shape: (1196, 3)\n"
     ]
    }
   ],
   "source": [
    "print(\"Fixed Numerical Shape:\", numerical.shape)\n",
    "print(\"Fixed Categorical Shape:\", categorical_columns.shape)"
   ]
  },
  {
   "cell_type": "code",
   "execution_count": 54,
   "id": "616b8921-264c-44e0-874a-1ee6c3690f63",
   "metadata": {},
   "outputs": [],
   "source": [
    "numerical = numerical.reset_index(drop=True)\n",
    "categorical_columns = categorical_columns.reset_index(drop=True)"
   ]
  },
  {
   "cell_type": "code",
   "execution_count": 55,
   "id": "28df5b40-fb00-4eff-9633-23cd42df7ad6",
   "metadata": {},
   "outputs": [],
   "source": [
    "final_df = pd.concat([numerical, categorical_columns], axis=1)\n"
   ]
  },
  {
   "cell_type": "code",
   "execution_count": 56,
   "id": "0440f159-4123-41ef-8e5d-a0293d5a6910",
   "metadata": {},
   "outputs": [
    {
     "data": {
      "text/html": [
       "<div>\n",
       "<style scoped>\n",
       "    .dataframe tbody tr th:only-of-type {\n",
       "        vertical-align: middle;\n",
       "    }\n",
       "\n",
       "    .dataframe tbody tr th {\n",
       "        vertical-align: top;\n",
       "    }\n",
       "\n",
       "    .dataframe thead th {\n",
       "        text-align: right;\n",
       "    }\n",
       "</style>\n",
       "<table border=\"1\" class=\"dataframe\">\n",
       "  <thead>\n",
       "    <tr style=\"text-align: right;\">\n",
       "      <th></th>\n",
       "      <th>age</th>\n",
       "      <th>bmi</th>\n",
       "      <th>children</th>\n",
       "      <th>charges</th>\n",
       "      <th>sex</th>\n",
       "      <th>smoker</th>\n",
       "      <th>region</th>\n",
       "    </tr>\n",
       "  </thead>\n",
       "  <tbody>\n",
       "    <tr>\n",
       "      <th>0</th>\n",
       "      <td>19</td>\n",
       "      <td>27.900</td>\n",
       "      <td>0</td>\n",
       "      <td>16884.92400</td>\n",
       "      <td>0</td>\n",
       "      <td>1</td>\n",
       "      <td>3</td>\n",
       "    </tr>\n",
       "    <tr>\n",
       "      <th>1</th>\n",
       "      <td>18</td>\n",
       "      <td>33.770</td>\n",
       "      <td>1</td>\n",
       "      <td>1725.55230</td>\n",
       "      <td>1</td>\n",
       "      <td>0</td>\n",
       "      <td>2</td>\n",
       "    </tr>\n",
       "    <tr>\n",
       "      <th>2</th>\n",
       "      <td>28</td>\n",
       "      <td>33.000</td>\n",
       "      <td>3</td>\n",
       "      <td>4449.46200</td>\n",
       "      <td>1</td>\n",
       "      <td>0</td>\n",
       "      <td>2</td>\n",
       "    </tr>\n",
       "    <tr>\n",
       "      <th>3</th>\n",
       "      <td>33</td>\n",
       "      <td>22.705</td>\n",
       "      <td>0</td>\n",
       "      <td>21984.47061</td>\n",
       "      <td>1</td>\n",
       "      <td>0</td>\n",
       "      <td>1</td>\n",
       "    </tr>\n",
       "    <tr>\n",
       "      <th>4</th>\n",
       "      <td>32</td>\n",
       "      <td>28.880</td>\n",
       "      <td>0</td>\n",
       "      <td>3866.85520</td>\n",
       "      <td>1</td>\n",
       "      <td>0</td>\n",
       "      <td>1</td>\n",
       "    </tr>\n",
       "    <tr>\n",
       "      <th>...</th>\n",
       "      <td>...</td>\n",
       "      <td>...</td>\n",
       "      <td>...</td>\n",
       "      <td>...</td>\n",
       "      <td>...</td>\n",
       "      <td>...</td>\n",
       "      <td>...</td>\n",
       "    </tr>\n",
       "    <tr>\n",
       "      <th>1191</th>\n",
       "      <td>50</td>\n",
       "      <td>30.970</td>\n",
       "      <td>3</td>\n",
       "      <td>10600.54830</td>\n",
       "      <td>1</td>\n",
       "      <td>0</td>\n",
       "      <td>1</td>\n",
       "    </tr>\n",
       "    <tr>\n",
       "      <th>1192</th>\n",
       "      <td>18</td>\n",
       "      <td>31.920</td>\n",
       "      <td>0</td>\n",
       "      <td>2205.98080</td>\n",
       "      <td>0</td>\n",
       "      <td>0</td>\n",
       "      <td>0</td>\n",
       "    </tr>\n",
       "    <tr>\n",
       "      <th>1193</th>\n",
       "      <td>18</td>\n",
       "      <td>36.850</td>\n",
       "      <td>0</td>\n",
       "      <td>1629.83350</td>\n",
       "      <td>0</td>\n",
       "      <td>0</td>\n",
       "      <td>2</td>\n",
       "    </tr>\n",
       "    <tr>\n",
       "      <th>1194</th>\n",
       "      <td>21</td>\n",
       "      <td>25.800</td>\n",
       "      <td>0</td>\n",
       "      <td>2007.94500</td>\n",
       "      <td>0</td>\n",
       "      <td>0</td>\n",
       "      <td>3</td>\n",
       "    </tr>\n",
       "    <tr>\n",
       "      <th>1195</th>\n",
       "      <td>61</td>\n",
       "      <td>29.070</td>\n",
       "      <td>0</td>\n",
       "      <td>29141.36030</td>\n",
       "      <td>0</td>\n",
       "      <td>1</td>\n",
       "      <td>1</td>\n",
       "    </tr>\n",
       "  </tbody>\n",
       "</table>\n",
       "<p>1196 rows × 7 columns</p>\n",
       "</div>"
      ],
      "text/plain": [
       "      age     bmi  children      charges  sex  smoker  region\n",
       "0      19  27.900         0  16884.92400    0       1       3\n",
       "1      18  33.770         1   1725.55230    1       0       2\n",
       "2      28  33.000         3   4449.46200    1       0       2\n",
       "3      33  22.705         0  21984.47061    1       0       1\n",
       "4      32  28.880         0   3866.85520    1       0       1\n",
       "...   ...     ...       ...          ...  ...     ...     ...\n",
       "1191   50  30.970         3  10600.54830    1       0       1\n",
       "1192   18  31.920         0   2205.98080    0       0       0\n",
       "1193   18  36.850         0   1629.83350    0       0       2\n",
       "1194   21  25.800         0   2007.94500    0       0       3\n",
       "1195   61  29.070         0  29141.36030    0       1       1\n",
       "\n",
       "[1196 rows x 7 columns]"
      ]
     },
     "execution_count": 56,
     "metadata": {},
     "output_type": "execute_result"
    }
   ],
   "source": [
    "final_df"
   ]
  },
  {
   "cell_type": "markdown",
   "id": "1b56e0fa-0e72-43cd-a18f-16485b6cadb5",
   "metadata": {},
   "source": [
    "# ML MODELLING"
   ]
  },
  {
   "cell_type": "code",
   "execution_count": 57,
   "id": "0f589092-d5e4-422a-b760-9ca92c9b8495",
   "metadata": {},
   "outputs": [],
   "source": [
    "from sklearn.linear_model import RidgeCV\n",
    "from sklearn.model_selection import train_test_split\n",
    "from sklearn.metrics import mean_squared_error, r2_score"
   ]
  },
  {
   "cell_type": "code",
   "execution_count": 58,
   "id": "04f5809c-4d07-4537-8b81-e455653c1a6b",
   "metadata": {},
   "outputs": [],
   "source": [
    "x = final_df.drop(columns=[\"charges\"])\n",
    "y = final_df[\"charges\"]"
   ]
  },
  {
   "cell_type": "code",
   "execution_count": 59,
   "id": "ad39cd12-1a90-424b-94c3-eaa1fffb9f25",
   "metadata": {},
   "outputs": [],
   "source": [
    "x_train,x_test,y_train,y_test = train_test_split(x,y,test_size=0.2,random_state=42)"
   ]
  },
  {
   "cell_type": "code",
   "execution_count": 60,
   "id": "a63696e1-4dda-4a11-b71b-1dc1101152ea",
   "metadata": {},
   "outputs": [
    {
     "name": "stdout",
     "output_type": "stream",
     "text": [
      "The predictions is...:  [ 4436.8395375   2525.41578118  5357.96710562  6145.38138793\n",
      " 20699.04394025 10392.63927131 13047.22902388 11248.1854683\n",
      "  5508.24062384 11745.91036541 23123.5639413   9804.22622162\n",
      " 10658.36239064  8081.52096662 12465.68959613 11172.84638525\n",
      " 14192.14404208  8431.17665304  9921.3030311  10088.8842972\n",
      "  6000.44118479  9088.57921129  6963.55182758 10098.83125384\n",
      "  3287.95198541 11449.59036108 11407.11866258 10585.84652099\n",
      "  2348.78553818 22323.48321643  6101.96812048  9584.403554\n",
      " 18232.84514205  8012.98491917  4650.21773737  9165.70702767\n",
      "  3192.82318495 10656.85704713  3734.17790799  5409.21602097\n",
      "  3614.10228449  9758.8237953  13295.18026851  6079.17151287\n",
      " 12577.45307625 10243.58405362  9246.53744185 14022.26905981\n",
      " 24145.8630266  24744.56987957  1824.2222589   3894.01379296\n",
      " 14513.9457811  21307.43603361  9699.97652443 12605.23716108\n",
      "  5095.56065782  8754.23107873  8553.98082188  8772.50179112\n",
      " 12435.86127711  5929.30824528 13289.23793955  9907.12859137\n",
      "  5885.53740135 11265.78857969 13927.49299866  5025.94651555\n",
      "  8693.4654257   8664.80589981 28444.21027322  4514.41116094\n",
      "  5896.24037308  2093.65692662 29658.81717395  5434.63903418\n",
      "  9015.24964228  8274.76007502  3460.92804768  9518.53798075\n",
      "  2047.99739314 10536.08175615 22569.75133953 12313.5362127\n",
      "  7622.27003363 11595.59293326  3859.98084616  7627.75382111\n",
      "  2857.0813396  12022.79429448  3945.29475739 11657.20776211\n",
      " 19796.13200919 13477.49744842 11689.78802215 10648.9225188\n",
      " 10344.22474817  6451.85876223  2179.28354157 11765.52504812\n",
      " 11870.6004886   1716.40070593 12129.95998507 11034.99081087\n",
      "  6093.39488277  8794.89214455 22296.77945464 28694.79497142\n",
      " 11824.26205838  4264.5571511   8341.50560989  3333.7977231\n",
      "  8340.60578878  9603.55131374 13196.53989421  2996.35917625\n",
      " 19522.64104028 23636.60375688 14446.78529395  4809.12212157\n",
      "  4709.66474679 11582.10400382  4274.1512422  24325.48912466\n",
      " 13099.5967171   4070.51837429  9174.33789365  6608.06869933\n",
      " 17948.28100379 11365.50623651 14298.18500001  9319.24503893\n",
      " 11100.70711898  7176.79262717  3060.96928293 11861.17901362\n",
      "  7024.28320332 14842.72756616  4804.43838936  5728.56795768\n",
      " 12064.62473878  1450.02414281 12823.23600578  6430.18519245\n",
      " 10605.32670957  1928.34584345  9360.90684617 11986.31315165\n",
      "  9581.81827432 10289.95116769 10512.18706798  4303.54608584\n",
      "  3763.82827805 17786.3610394   2596.24047254 10126.02796065\n",
      " 27636.35636591 12223.52912298 12491.5049588  15738.37581817\n",
      "  6120.5263361   4535.29604463 11353.63339875 14975.81733586\n",
      " 10739.61162732  6164.45674026  2588.22566841 14486.80948248\n",
      "  2902.48002195  8029.08815428 13309.57251055  7543.31357457\n",
      " 11263.35441462  6492.61134678 12882.45238107 11741.36937445\n",
      "  3735.67133382 29344.66550053  6642.46370546 23320.11355053\n",
      " 11059.67660371  7397.54900635  9873.60262054  9582.93006921\n",
      "  4246.95695398 12362.07360948  8214.08036466 15744.51887798\n",
      "  3215.39899444 21099.4523133  14302.24155369  4745.05421482\n",
      "  4898.20000287 11724.78711645  5657.18134125 19343.76015723\n",
      " 10129.17212489  6541.72204591  9938.68230385 11162.65018171\n",
      " 10388.67215181 22404.68744597 10922.46527933  2446.42239116\n",
      " 12324.99335002  4166.27206095  8475.10291538 11648.82034176\n",
      " 12684.35705059 16880.58290211 13271.51741361 20798.74439124\n",
      " 11867.05211005 13554.18677318  4453.72020765  6251.21907018\n",
      " 12106.99667142  8726.56091696 11236.54167578 12159.04551579\n",
      " 22609.10235101 10712.06483486 23738.06194759 11943.38799204\n",
      "  1649.25412349  1218.08264696 26795.39098906 10738.91146415\n",
      " 11125.07710348  3021.27180353 12449.05020552  9343.59053455\n",
      "  9352.22381912 19043.585737    6129.85038227  9531.42284756\n",
      " 10735.34601413 12790.14051451 11587.25514656 11233.23421546]\n",
      "**************************************************\n",
      "The mse is : 20049451.178350773\n",
      "The r2 score is : 0.587956390155868\n"
     ]
    },
    {
     "name": "stderr",
     "output_type": "stream",
     "text": [
      "C:\\Users\\HP\\AppData\\Local\\Programs\\Python\\Python312\\Lib\\site-packages\\sklearn\\linear_model\\_ridge.py:2385: FutureWarning: 'store_cv_values' is deprecated in version 1.5 and will be removed in 1.7. Use 'store_cv_results' instead.\n",
      "  warnings.warn(\n"
     ]
    }
   ],
   "source": [
    "alphas = (0.1, 1, 50)\n",
    "ridge = RidgeCV(alphas = alphas,store_cv_values=True)\n",
    "\n",
    "ridge.fit(x_train,y_train)\n",
    "predictions = ridge.predict(x_test)\n",
    "\n",
    "# Saving the trained model using pickle\n",
    "with open(\"ridge_model.pkl\", \"wb\") as file:\n",
    "    pickle.dump(ridge, file)\n",
    "\n",
    "# Loading the saved model\n",
    "with open(\"ridge_model.pkl\", \"rb\") as file:\n",
    "    loaded_ridge = pickle.load(file)\n",
    "\n",
    "print(\"The predictions is...: \",predictions)\n",
    "print(\"*\"*50)\n",
    "\n",
    "mse = mean_squared_error(y_test,predictions)\n",
    "print(\"The mse is :\", mse)\n",
    "\n",
    "r2 = r2_score(y_test,predictions)\n",
    "print(\"The r2 score is :\", r2)\n",
    "\n"
   ]
  },
  {
   "cell_type": "code",
   "execution_count": null,
   "id": "2f68f2bb-c526-44c9-be98-252525b284c2",
   "metadata": {},
   "outputs": [],
   "source": []
  },
  {
   "cell_type": "code",
   "execution_count": null,
   "id": "57229680-9d9e-4b10-81d0-7c7c05b97404",
   "metadata": {},
   "outputs": [],
   "source": []
  }
 ],
 "metadata": {
  "kernelspec": {
   "display_name": "Python 3 (ipykernel)",
   "language": "python",
   "name": "python3"
  },
  "language_info": {
   "codemirror_mode": {
    "name": "ipython",
    "version": 3
   },
   "file_extension": ".py",
   "mimetype": "text/x-python",
   "name": "python",
   "nbconvert_exporter": "python",
   "pygments_lexer": "ipython3",
   "version": "3.12.4"
  }
 },
 "nbformat": 4,
 "nbformat_minor": 5
}
